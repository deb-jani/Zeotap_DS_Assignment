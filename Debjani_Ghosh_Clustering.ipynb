{
 "cells": [
  {
   "cell_type": "code",
   "execution_count": 1,
   "id": "d968efa7",
   "metadata": {
    "_cell_guid": "b1076dfc-b9ad-4769-8c92-a6c4dae69d19",
    "_uuid": "8f2839f25d086af736a60e9eeb907d3b93b6e0e5",
    "execution": {
     "iopub.execute_input": "2025-01-28T10:03:38.760041Z",
     "iopub.status.busy": "2025-01-28T10:03:38.759650Z",
     "iopub.status.idle": "2025-01-28T10:03:43.182499Z",
     "shell.execute_reply": "2025-01-28T10:03:43.181286Z"
    },
    "papermill": {
     "duration": 4.42934,
     "end_time": "2025-01-28T10:03:43.184636",
     "exception": false,
     "start_time": "2025-01-28T10:03:38.755296",
     "status": "completed"
    },
    "tags": []
   },
   "outputs": [
    {
     "name": "stdout",
     "output_type": "stream",
     "text": [
      "/kaggle/input/ecommerce-transactions-dataset/Products.csv\n",
      "/kaggle/input/ecommerce-transactions-dataset/Customers.csv\n",
      "/kaggle/input/ecommerce-transactions-dataset/Transactions.csv\n"
     ]
    }
   ],
   "source": [
    "# This Python 3 environment comes with many helpful analytics libraries installed\n",
    "# It is defined by the kaggle/python Docker image: https://github.com/kaggle/docker-python\n",
    "# For example, here's several helpful packages to load\n",
    "\n",
    "import numpy as np # linear algebra\n",
    "import pandas as pd # data processing, CSV file I/O (e.g. pd.read_csv)\n",
    "from sklearn.preprocessing import StandardScaler\n",
    "from sklearn.cluster import KMeans\n",
    "from sklearn.decomposition import PCA\n",
    "from sklearn.metrics import davies_bouldin_score\n",
    "import matplotlib.pyplot as plt\n",
    "import seaborn as sns\n",
    "\n",
    "# Input data files are available in the read-only \"../input/\" directory\n",
    "# For example, running this (by clicking run or pressing Shift+Enter) will list all files under the input directory\n",
    "\n",
    "import os\n",
    "for dirname, _, filenames in os.walk('/kaggle/input'):\n",
    "    for filename in filenames:\n",
    "        print(os.path.join(dirname, filename))\n",
    "\n",
    "# You can write up to 20GB to the current directory (/kaggle/working/) that gets preserved as output when you create a version using \"Save & Run All\" \n",
    "# You can also write temporary files to /kaggle/temp/, but they won't be saved outside of the current session"
   ]
  },
  {
   "cell_type": "code",
   "execution_count": 2,
   "id": "01816095",
   "metadata": {
    "execution": {
     "iopub.execute_input": "2025-01-28T10:03:43.192657Z",
     "iopub.status.busy": "2025-01-28T10:03:43.192138Z",
     "iopub.status.idle": "2025-01-28T10:03:43.226228Z",
     "shell.execute_reply": "2025-01-28T10:03:43.225233Z"
    },
    "papermill": {
     "duration": 0.039786,
     "end_time": "2025-01-28T10:03:43.228020",
     "exception": false,
     "start_time": "2025-01-28T10:03:43.188234",
     "status": "completed"
    },
    "tags": []
   },
   "outputs": [],
   "source": [
    "Customers_data = pd.read_csv(\"/kaggle/input/ecommerce-transactions-dataset/Customers.csv\")\n",
    "Products_data = pd.read_csv(\"/kaggle/input/ecommerce-transactions-dataset/Products.csv\")\n",
    "Transactions_data = pd.read_csv(\"/kaggle/input/ecommerce-transactions-dataset/Transactions.csv\")"
   ]
  },
  {
   "cell_type": "code",
   "execution_count": 3,
   "id": "53e7e81b",
   "metadata": {
    "execution": {
     "iopub.execute_input": "2025-01-28T10:03:43.235144Z",
     "iopub.status.busy": "2025-01-28T10:03:43.234749Z",
     "iopub.status.idle": "2025-01-28T10:03:43.259910Z",
     "shell.execute_reply": "2025-01-28T10:03:43.258837Z"
    },
    "papermill": {
     "duration": 0.030752,
     "end_time": "2025-01-28T10:03:43.261807",
     "exception": false,
     "start_time": "2025-01-28T10:03:43.231055",
     "status": "completed"
    },
    "tags": []
   },
   "outputs": [
    {
     "data": {
      "text/html": [
       "<div>\n",
       "<style scoped>\n",
       "    .dataframe tbody tr th:only-of-type {\n",
       "        vertical-align: middle;\n",
       "    }\n",
       "\n",
       "    .dataframe tbody tr th {\n",
       "        vertical-align: top;\n",
       "    }\n",
       "\n",
       "    .dataframe thead th {\n",
       "        text-align: right;\n",
       "    }\n",
       "</style>\n",
       "<table border=\"1\" class=\"dataframe\">\n",
       "  <thead>\n",
       "    <tr style=\"text-align: right;\">\n",
       "      <th></th>\n",
       "      <th>CustomerID</th>\n",
       "      <th>CustomerName</th>\n",
       "      <th>Region</th>\n",
       "      <th>SignupDate</th>\n",
       "    </tr>\n",
       "  </thead>\n",
       "  <tbody>\n",
       "    <tr>\n",
       "      <th>0</th>\n",
       "      <td>C0001</td>\n",
       "      <td>Lawrence Carroll</td>\n",
       "      <td>South America</td>\n",
       "      <td>2022-07-10</td>\n",
       "    </tr>\n",
       "    <tr>\n",
       "      <th>1</th>\n",
       "      <td>C0002</td>\n",
       "      <td>Elizabeth Lutz</td>\n",
       "      <td>Asia</td>\n",
       "      <td>2022-02-13</td>\n",
       "    </tr>\n",
       "    <tr>\n",
       "      <th>2</th>\n",
       "      <td>C0003</td>\n",
       "      <td>Michael Rivera</td>\n",
       "      <td>South America</td>\n",
       "      <td>2024-03-07</td>\n",
       "    </tr>\n",
       "    <tr>\n",
       "      <th>3</th>\n",
       "      <td>C0004</td>\n",
       "      <td>Kathleen Rodriguez</td>\n",
       "      <td>South America</td>\n",
       "      <td>2022-10-09</td>\n",
       "    </tr>\n",
       "    <tr>\n",
       "      <th>4</th>\n",
       "      <td>C0005</td>\n",
       "      <td>Laura Weber</td>\n",
       "      <td>Asia</td>\n",
       "      <td>2022-08-15</td>\n",
       "    </tr>\n",
       "  </tbody>\n",
       "</table>\n",
       "</div>"
      ],
      "text/plain": [
       "  CustomerID        CustomerName         Region  SignupDate\n",
       "0      C0001    Lawrence Carroll  South America  2022-07-10\n",
       "1      C0002      Elizabeth Lutz           Asia  2022-02-13\n",
       "2      C0003      Michael Rivera  South America  2024-03-07\n",
       "3      C0004  Kathleen Rodriguez  South America  2022-10-09\n",
       "4      C0005         Laura Weber           Asia  2022-08-15"
      ]
     },
     "execution_count": 3,
     "metadata": {},
     "output_type": "execute_result"
    }
   ],
   "source": [
    "Customers_data.head()"
   ]
  },
  {
   "cell_type": "code",
   "execution_count": 4,
   "id": "50623cfe",
   "metadata": {
    "execution": {
     "iopub.execute_input": "2025-01-28T10:03:43.269592Z",
     "iopub.status.busy": "2025-01-28T10:03:43.269066Z",
     "iopub.status.idle": "2025-01-28T10:03:43.328993Z",
     "shell.execute_reply": "2025-01-28T10:03:43.327894Z"
    },
    "papermill": {
     "duration": 0.065798,
     "end_time": "2025-01-28T10:03:43.330944",
     "exception": false,
     "start_time": "2025-01-28T10:03:43.265146",
     "status": "completed"
    },
    "tags": []
   },
   "outputs": [
    {
     "data": {
      "text/html": [
       "<div>\n",
       "<style scoped>\n",
       "    .dataframe tbody tr th:only-of-type {\n",
       "        vertical-align: middle;\n",
       "    }\n",
       "\n",
       "    .dataframe tbody tr th {\n",
       "        vertical-align: top;\n",
       "    }\n",
       "\n",
       "    .dataframe thead th {\n",
       "        text-align: right;\n",
       "    }\n",
       "</style>\n",
       "<table border=\"1\" class=\"dataframe\">\n",
       "  <thead>\n",
       "    <tr style=\"text-align: right;\">\n",
       "      <th></th>\n",
       "      <th>CustomerID</th>\n",
       "      <th>TotalValue</th>\n",
       "      <th>Quantity</th>\n",
       "      <th>TransactionDate</th>\n",
       "      <th>Region</th>\n",
       "    </tr>\n",
       "  </thead>\n",
       "  <tbody>\n",
       "    <tr>\n",
       "      <th>0</th>\n",
       "      <td>C0001</td>\n",
       "      <td>3354.52</td>\n",
       "      <td>12</td>\n",
       "      <td>5</td>\n",
       "      <td>South America</td>\n",
       "    </tr>\n",
       "    <tr>\n",
       "      <th>1</th>\n",
       "      <td>C0002</td>\n",
       "      <td>1862.74</td>\n",
       "      <td>10</td>\n",
       "      <td>4</td>\n",
       "      <td>Asia</td>\n",
       "    </tr>\n",
       "    <tr>\n",
       "      <th>2</th>\n",
       "      <td>C0003</td>\n",
       "      <td>2725.38</td>\n",
       "      <td>14</td>\n",
       "      <td>4</td>\n",
       "      <td>South America</td>\n",
       "    </tr>\n",
       "    <tr>\n",
       "      <th>3</th>\n",
       "      <td>C0004</td>\n",
       "      <td>5354.88</td>\n",
       "      <td>23</td>\n",
       "      <td>8</td>\n",
       "      <td>South America</td>\n",
       "    </tr>\n",
       "    <tr>\n",
       "      <th>4</th>\n",
       "      <td>C0005</td>\n",
       "      <td>2034.24</td>\n",
       "      <td>7</td>\n",
       "      <td>3</td>\n",
       "      <td>Asia</td>\n",
       "    </tr>\n",
       "  </tbody>\n",
       "</table>\n",
       "</div>"
      ],
      "text/plain": [
       "  CustomerID  TotalValue  Quantity  TransactionDate         Region\n",
       "0      C0001     3354.52        12                5  South America\n",
       "1      C0002     1862.74        10                4           Asia\n",
       "2      C0003     2725.38        14                4  South America\n",
       "3      C0004     5354.88        23                8  South America\n",
       "4      C0005     2034.24         7                3           Asia"
      ]
     },
     "execution_count": 4,
     "metadata": {},
     "output_type": "execute_result"
    }
   ],
   "source": [
    "Customer_transactions = pd.merge(Transactions_data, Customers_data, on=\"CustomerID\")\n",
    "\n",
    "Customer_summary = Customer_transactions.groupby('CustomerID').agg({\n",
    "    'TotalValue': 'sum',\n",
    "    'Quantity': 'sum',\n",
    "    'TransactionDate': 'nunique',  \n",
    "}).reset_index()\n",
    "\n",
    "Customer_summary = pd.merge(Customer_summary, Customers_data[['CustomerID', 'Region']], on=\"CustomerID\")\n",
    "\n",
    "Customer_summary.head()"
   ]
  },
  {
   "cell_type": "code",
   "execution_count": 5,
   "id": "f3435289",
   "metadata": {
    "execution": {
     "iopub.execute_input": "2025-01-28T10:03:43.338839Z",
     "iopub.status.busy": "2025-01-28T10:03:43.338425Z",
     "iopub.status.idle": "2025-01-28T10:03:43.350238Z",
     "shell.execute_reply": "2025-01-28T10:03:43.349150Z"
    },
    "papermill": {
     "duration": 0.017457,
     "end_time": "2025-01-28T10:03:43.351830",
     "exception": false,
     "start_time": "2025-01-28T10:03:43.334373",
     "status": "completed"
    },
    "tags": []
   },
   "outputs": [
    {
     "data": {
      "text/plain": [
       "array([[-0.06170143, -0.12203296, -0.01145819],\n",
       "       [-0.87774353, -0.44800021, -0.46749414],\n",
       "       [-0.40585722,  0.20393428, -0.46749414],\n",
       "       [ 1.03254704,  1.67078689,  1.35664965],\n",
       "       [-0.78392861, -0.93695108, -0.92353008]])"
      ]
     },
     "execution_count": 5,
     "metadata": {},
     "output_type": "execute_result"
    }
   ],
   "source": [
    "features = Customer_summary[['TotalValue', 'Quantity', 'TransactionDate']]\n",
    "\n",
    "# Standardize the features\n",
    "scaler = StandardScaler()\n",
    "scaled_features = scaler.fit_transform(features)\n",
    "\n",
    "# Display the scaled features\n",
    "scaled_features[:5]"
   ]
  },
  {
   "cell_type": "code",
   "execution_count": 6,
   "id": "764a5a9b",
   "metadata": {
    "execution": {
     "iopub.execute_input": "2025-01-28T10:03:43.359472Z",
     "iopub.status.busy": "2025-01-28T10:03:43.359104Z",
     "iopub.status.idle": "2025-01-28T10:03:43.482886Z",
     "shell.execute_reply": "2025-01-28T10:03:43.480701Z"
    },
    "papermill": {
     "duration": 0.131572,
     "end_time": "2025-01-28T10:03:43.486836",
     "exception": false,
     "start_time": "2025-01-28T10:03:43.355264",
     "status": "completed"
    },
    "tags": []
   },
   "outputs": [
    {
     "name": "stderr",
     "output_type": "stream",
     "text": [
      "/usr/local/lib/python3.10/dist-packages/sklearn/cluster/_kmeans.py:870: FutureWarning: The default value of `n_init` will change from 10 to 'auto' in 1.4. Set the value of `n_init` explicitly to suppress the warning\n",
      "  warnings.warn(\n"
     ]
    },
    {
     "data": {
      "text/html": [
       "<div>\n",
       "<style scoped>\n",
       "    .dataframe tbody tr th:only-of-type {\n",
       "        vertical-align: middle;\n",
       "    }\n",
       "\n",
       "    .dataframe tbody tr th {\n",
       "        vertical-align: top;\n",
       "    }\n",
       "\n",
       "    .dataframe thead th {\n",
       "        text-align: right;\n",
       "    }\n",
       "</style>\n",
       "<table border=\"1\" class=\"dataframe\">\n",
       "  <thead>\n",
       "    <tr style=\"text-align: right;\">\n",
       "      <th></th>\n",
       "      <th>CustomerID</th>\n",
       "      <th>TotalValue</th>\n",
       "      <th>Quantity</th>\n",
       "      <th>TransactionDate</th>\n",
       "      <th>Region</th>\n",
       "      <th>Cluster</th>\n",
       "    </tr>\n",
       "  </thead>\n",
       "  <tbody>\n",
       "    <tr>\n",
       "      <th>0</th>\n",
       "      <td>C0001</td>\n",
       "      <td>3354.52</td>\n",
       "      <td>12</td>\n",
       "      <td>5</td>\n",
       "      <td>South America</td>\n",
       "      <td>1</td>\n",
       "    </tr>\n",
       "    <tr>\n",
       "      <th>1</th>\n",
       "      <td>C0002</td>\n",
       "      <td>1862.74</td>\n",
       "      <td>10</td>\n",
       "      <td>4</td>\n",
       "      <td>Asia</td>\n",
       "      <td>1</td>\n",
       "    </tr>\n",
       "    <tr>\n",
       "      <th>2</th>\n",
       "      <td>C0003</td>\n",
       "      <td>2725.38</td>\n",
       "      <td>14</td>\n",
       "      <td>4</td>\n",
       "      <td>South America</td>\n",
       "      <td>1</td>\n",
       "    </tr>\n",
       "    <tr>\n",
       "      <th>3</th>\n",
       "      <td>C0004</td>\n",
       "      <td>5354.88</td>\n",
       "      <td>23</td>\n",
       "      <td>8</td>\n",
       "      <td>South America</td>\n",
       "      <td>3</td>\n",
       "    </tr>\n",
       "    <tr>\n",
       "      <th>4</th>\n",
       "      <td>C0005</td>\n",
       "      <td>2034.24</td>\n",
       "      <td>7</td>\n",
       "      <td>3</td>\n",
       "      <td>Asia</td>\n",
       "      <td>2</td>\n",
       "    </tr>\n",
       "  </tbody>\n",
       "</table>\n",
       "</div>"
      ],
      "text/plain": [
       "  CustomerID  TotalValue  Quantity  TransactionDate         Region  Cluster\n",
       "0      C0001     3354.52        12                5  South America        1\n",
       "1      C0002     1862.74        10                4           Asia        1\n",
       "2      C0003     2725.38        14                4  South America        1\n",
       "3      C0004     5354.88        23                8  South America        3\n",
       "4      C0005     2034.24         7                3           Asia        2"
      ]
     },
     "execution_count": 6,
     "metadata": {},
     "output_type": "execute_result"
    }
   ],
   "source": [
    "# Applying KMeans clustering\n",
    "kmeans = KMeans(n_clusters=4, random_state=42)  # You can change n_clusters to any value between 2 and 10\n",
    "Customer_summary['Cluster'] = kmeans.fit_predict(scaled_features)\n",
    "\n",
    "# Display the clustered data\n",
    "Customer_summary.head()"
   ]
  },
  {
   "cell_type": "code",
   "execution_count": 7,
   "id": "c8716ad9",
   "metadata": {
    "execution": {
     "iopub.execute_input": "2025-01-28T10:03:43.495646Z",
     "iopub.status.busy": "2025-01-28T10:03:43.495270Z",
     "iopub.status.idle": "2025-01-28T10:03:43.508248Z",
     "shell.execute_reply": "2025-01-28T10:03:43.507062Z"
    },
    "papermill": {
     "duration": 0.018948,
     "end_time": "2025-01-28T10:03:43.509938",
     "exception": false,
     "start_time": "2025-01-28T10:03:43.490990",
     "status": "completed"
    },
    "tags": []
   },
   "outputs": [
    {
     "name": "stdout",
     "output_type": "stream",
     "text": [
      "Davies-Bouldin Index: 0.8650620583623065\n"
     ]
    }
   ],
   "source": [
    "db_index = davies_bouldin_score(scaled_features, Customer_summary['Cluster'])\n",
    "\n",
    "print(f'Davies-Bouldin Index: {db_index}')"
   ]
  },
  {
   "cell_type": "code",
   "execution_count": 8,
   "id": "b0a58239",
   "metadata": {
    "execution": {
     "iopub.execute_input": "2025-01-28T10:03:43.518535Z",
     "iopub.status.busy": "2025-01-28T10:03:43.518143Z",
     "iopub.status.idle": "2025-01-28T10:03:44.169879Z",
     "shell.execute_reply": "2025-01-28T10:03:44.168741Z"
    },
    "papermill": {
     "duration": 0.659476,
     "end_time": "2025-01-28T10:03:44.173177",
     "exception": false,
     "start_time": "2025-01-28T10:03:43.513701",
     "status": "completed"
    },
    "tags": []
   },
   "outputs": [
    {
     "data": {
      "image/png": "[encoded data removed]",
      "text/plain": [
       "<Figure size 800x600 with 1 Axes>"
      ]
     },
     "metadata": {},
     "output_type": "display_data"
    }
   ],
   "source": [
    "pca = PCA(n_components=2)\n",
    "principal_components = pca.fit_transform(scaled_features)\n",
    "\n",
    "# Create a DataFrame for PCA results\n",
    "pca_df = pd.DataFrame(data=principal_components, columns=['PCA1', 'PCA2'])\n",
    "pca_df['Cluster'] = Customer_summary['Cluster']\n",
    "\n",
    "# Plot the clusters\n",
    "plt.figure(figsize=(8,6))\n",
    "sns.scatterplot(x='PCA1', y='PCA2', hue='Cluster', palette='Set2', data=pca_df, s=100, alpha=0.7)\n",
    "plt.title('Customer Segmentation using KMeans')\n",
    "plt.xlabel('PCA 1')\n",
    "plt.ylabel('PCA 2')\n",
    "plt.legend(title='Cluster')\n",
    "plt.show()"
   ]
  },
  {
   "cell_type": "code",
   "execution_count": 9,
   "id": "5fb950b8",
   "metadata": {
    "execution": {
     "iopub.execute_input": "2025-01-28T10:03:44.187892Z",
     "iopub.status.busy": "2025-01-28T10:03:44.187493Z",
     "iopub.status.idle": "2025-01-28T10:03:44.193929Z",
     "shell.execute_reply": "2025-01-28T10:03:44.192529Z"
    },
    "papermill": {
     "duration": 0.015071,
     "end_time": "2025-01-28T10:03:44.195890",
     "exception": false,
     "start_time": "2025-01-28T10:03:44.180819",
     "status": "completed"
    },
    "tags": []
   },
   "outputs": [
    {
     "name": "stdout",
     "output_type": "stream",
     "text": [
      "Number of clusters formed: 4\n",
      "Davies-Bouldin Index: 0.8650620583623065\n"
     ]
    }
   ],
   "source": [
    "Num_clusters = Customer_summary['Cluster'].nunique()\n",
    "print(f'Number of clusters formed: {Num_clusters}')\n",
    "\n",
    "print(f'Davies-Bouldin Index: {db_index}')"
   ]
  }
 ],
 "metadata": {
  "kaggle": {
   "accelerator": "none",
   "dataSources": [
    {
     "datasetId": 6560287,
     "sourceId": 10598866,
     "sourceType": "datasetVersion"
    }
   ],
   "dockerImageVersionId": 30839,
   "isGpuEnabled": false,
   "isInternetEnabled": true,
   "language": "python",
   "sourceType": "notebook"
  },
  "kernelspec": {
   "display_name": "Python 3",
   "language": "python",
   "name": "python3"
  },
  "language_info": {
   "codemirror_mode": {
    "name": "ipython",
    "version": 3
   },
   "file_extension": ".py",
   "mimetype": "text/x-python",
   "name": "python",
   "nbconvert_exporter": "python",
   "pygments_lexer": "ipython3",
   "version": "3.10.12"
  },
  "papermill": {
   "default_parameters": {},
   "duration": 9.285464,
   "end_time": "2025-01-28T10:03:45.022201",
   "environment_variables": {},
   "exception": null,
   "input_path": "__notebook__.ipynb",
   "output_path": "__notebook__.ipynb",
   "parameters": {},
   "start_time": "2025-01-28T10:03:35.736737",
   "version": "2.6.0"
  }
 },
 "nbformat": 4,
 "nbformat_minor": 5
}
