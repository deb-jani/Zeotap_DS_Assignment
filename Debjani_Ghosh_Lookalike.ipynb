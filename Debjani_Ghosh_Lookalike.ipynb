{
 "cells": [
  {
   "cell_type": "code",
   "execution_count": 1,
   "id": "28f35f9c",
   "metadata": {
    "_cell_guid": "b1076dfc-b9ad-4769-8c92-a6c4dae69d19",
    "_uuid": "8f2839f25d086af736a60e9eeb907d3b93b6e0e5",
    "execution": {
     "iopub.execute_input": "2025-01-28T09:52:58.862315Z",
     "iopub.status.busy": "2025-01-28T09:52:58.861880Z",
     "iopub.status.idle": "2025-01-28T09:53:01.022208Z",
     "shell.execute_reply": "2025-01-28T09:53:01.021110Z"
    },
    "papermill": {
     "duration": 2.167229,
     "end_time": "2025-01-28T09:53:01.024450",
     "exception": false,
     "start_time": "2025-01-28T09:52:58.857221",
     "status": "completed"
    },
    "tags": []
   },
   "outputs": [
    {
     "name": "stdout",
     "output_type": "stream",
     "text": [
      "/kaggle/input/ecommerce-transactions-dataset/Products.csv\n",
      "/kaggle/input/ecommerce-transactions-dataset/Customers.csv\n",
      "/kaggle/input/ecommerce-transactions-dataset/Transactions.csv\n"
     ]
    }
   ],
   "source": [
    "# This Python 3 environment comes with many helpful analytics libraries installed\n",
    "# It is defined by the kaggle/python Docker image: https://github.com/kaggle/docker-python\n",
    "# For example, here's several helpful packages to load\n",
    "\n",
    "import numpy as np # linear algebra\n",
    "import pandas as pd # data processing, CSV file I/O (e.g. pd.read_csv)\n",
    "from sklearn.preprocessing import StandardScaler\n",
    "from sklearn.metrics.pairwise import cosine_similarity\n",
    "     \n",
    "\n",
    "# Input data files are available in the read-only \"../input/\" directory\n",
    "# For example, running this (by clicking run or pressing Shift+Enter) will list all files under the input directory\n",
    "\n",
    "import os\n",
    "for dirname, _, filenames in os.walk('/kaggle/input'):\n",
    "    for filename in filenames:\n",
    "        print(os.path.join(dirname, filename))\n",
    "\n",
    "# You can write up to 20GB to the current directory (/kaggle/working/) that gets preserved as output when you create a version using \"Save & Run All\" \n",
    "# You can also write temporary files to /kaggle/temp/, but they won't be saved outside of the current session"
   ]
  },
  {
   "cell_type": "code",
   "execution_count": 2,
   "id": "4e4681d9",
   "metadata": {
    "execution": {
     "iopub.execute_input": "2025-01-28T09:53:01.031847Z",
     "iopub.status.busy": "2025-01-28T09:53:01.031393Z",
     "iopub.status.idle": "2025-01-28T09:53:01.066728Z",
     "shell.execute_reply": "2025-01-28T09:53:01.065741Z"
    },
    "papermill": {
     "duration": 0.040809,
     "end_time": "2025-01-28T09:53:01.068647",
     "exception": false,
     "start_time": "2025-01-28T09:53:01.027838",
     "status": "completed"
    },
    "tags": []
   },
   "outputs": [],
   "source": [
    "Customers_data = pd.read_csv(\"/kaggle/input/ecommerce-transactions-dataset/Customers.csv\")\n",
    "Products_data = pd.read_csv(\"/kaggle/input/ecommerce-transactions-dataset/Products.csv\")\n",
    "Transactions_data = pd.read_csv(\"/kaggle/input/ecommerce-transactions-dataset/Transactions.csv\")"
   ]
  },
  {
   "cell_type": "code",
   "execution_count": 3,
   "id": "1cd9cfb8",
   "metadata": {
    "execution": {
     "iopub.execute_input": "2025-01-28T09:53:01.075678Z",
     "iopub.status.busy": "2025-01-28T09:53:01.075364Z",
     "iopub.status.idle": "2025-01-28T09:53:01.105177Z",
     "shell.execute_reply": "2025-01-28T09:53:01.104146Z"
    },
    "papermill": {
     "duration": 0.035149,
     "end_time": "2025-01-28T09:53:01.106902",
     "exception": false,
     "start_time": "2025-01-28T09:53:01.071753",
     "status": "completed"
    },
    "tags": []
   },
   "outputs": [],
   "source": [
    "Transactions_products = pd.merge(Transactions_data, Products_data, on='ProductID', how='left')\n",
    "Merged_data = pd.merge(Transactions_products, Customers_data, on='CustomerID', how='left')\n"
   ]
  },
  {
   "cell_type": "code",
   "execution_count": 4,
   "id": "c2694e0e",
   "metadata": {
    "execution": {
     "iopub.execute_input": "2025-01-28T09:53:01.113889Z",
     "iopub.status.busy": "2025-01-28T09:53:01.113575Z",
     "iopub.status.idle": "2025-01-28T09:53:01.136873Z",
     "shell.execute_reply": "2025-01-28T09:53:01.136049Z"
    },
    "papermill": {
     "duration": 0.028637,
     "end_time": "2025-01-28T09:53:01.138697",
     "exception": false,
     "start_time": "2025-01-28T09:53:01.110060",
     "status": "completed"
    },
    "tags": []
   },
   "outputs": [],
   "source": [
    "Customers_spending = Merged_data.groupby('CustomerID')['TotalValue'].sum().reset_index()\n",
    "Customers_spending.columns = ['CustomerID', 'TotalSpent']\n",
    "\n",
    "Customers_quantity = Merged_data.groupby('CustomerID')['Quantity'].mean().reset_index()\n",
    "Customers_quantity.columns = ['CustomerID', 'AvgQuantity']\n",
    "\n",
    "Customers_favorite_category = Merged_data.groupby(['CustomerID', 'Category']).size().reset_index(name='Counts')\n",
    "Customers_favorite_category = Customers_favorite_category.loc[Customers_favorite_category.groupby('CustomerID')['Counts'].idxmax()]\n",
    "Customers_favorite_category = Customers_favorite_category[['CustomerID', 'Category']]\n"
   ]
  },
  {
   "cell_type": "code",
   "execution_count": 5,
   "id": "9af7bc24",
   "metadata": {
    "execution": {
     "iopub.execute_input": "2025-01-28T09:53:01.145716Z",
     "iopub.status.busy": "2025-01-28T09:53:01.145411Z",
     "iopub.status.idle": "2025-01-28T09:53:01.152404Z",
     "shell.execute_reply": "2025-01-28T09:53:01.151401Z"
    },
    "papermill": {
     "duration": 0.012421,
     "end_time": "2025-01-28T09:53:01.154246",
     "exception": false,
     "start_time": "2025-01-28T09:53:01.141825",
     "status": "completed"
    },
    "tags": []
   },
   "outputs": [],
   "source": [
    "Customers_value = pd.get_dummies(Customers_data, columns=['Region'], drop_first=True)"
   ]
  },
  {
   "cell_type": "code",
   "execution_count": 6,
   "id": "fc3dcb1a",
   "metadata": {
    "execution": {
     "iopub.execute_input": "2025-01-28T09:53:01.161869Z",
     "iopub.status.busy": "2025-01-28T09:53:01.161509Z",
     "iopub.status.idle": "2025-01-28T09:53:01.172933Z",
     "shell.execute_reply": "2025-01-28T09:53:01.171855Z"
    },
    "papermill": {
     "duration": 0.016862,
     "end_time": "2025-01-28T09:53:01.174526",
     "exception": false,
     "start_time": "2025-01-28T09:53:01.157664",
     "status": "completed"
    },
    "tags": []
   },
   "outputs": [],
   "source": [
    "Customers_profile = pd.merge(Customers_spending, Customers_quantity, on='CustomerID')\n",
    "Customers_profile = pd.merge(Customers_profile, Customers_favorite_category, on='CustomerID')     "
   ]
  },
  {
   "cell_type": "code",
   "execution_count": 7,
   "id": "90337edc",
   "metadata": {
    "execution": {
     "iopub.execute_input": "2025-01-28T09:53:01.181611Z",
     "iopub.status.busy": "2025-01-28T09:53:01.181302Z",
     "iopub.status.idle": "2025-01-28T09:53:01.189123Z",
     "shell.execute_reply": "2025-01-28T09:53:01.188120Z"
    },
    "papermill": {
     "duration": 0.013178,
     "end_time": "2025-01-28T09:53:01.190800",
     "exception": false,
     "start_time": "2025-01-28T09:53:01.177622",
     "status": "completed"
    },
    "tags": []
   },
   "outputs": [],
   "source": [
    "scaler = StandardScaler()\n",
    "Customers_profile_scaled = scaler.fit_transform(Customers_profile[['TotalSpent', 'AvgQuantity']])"
   ]
  },
  {
   "cell_type": "code",
   "execution_count": 8,
   "id": "1fe515a8",
   "metadata": {
    "execution": {
     "iopub.execute_input": "2025-01-28T09:53:01.197930Z",
     "iopub.status.busy": "2025-01-28T09:53:01.197512Z",
     "iopub.status.idle": "2025-01-28T09:53:01.211941Z",
     "shell.execute_reply": "2025-01-28T09:53:01.210511Z"
    },
    "papermill": {
     "duration": 0.019862,
     "end_time": "2025-01-28T09:53:01.213741",
     "exception": false,
     "start_time": "2025-01-28T09:53:01.193879",
     "status": "completed"
    },
    "tags": []
   },
   "outputs": [],
   "source": [
    "Similarity_matrix = cosine_similarity(Customers_profile_scaled)"
   ]
  },
  {
   "cell_type": "code",
   "execution_count": 9,
   "id": "27a2345c",
   "metadata": {
    "execution": {
     "iopub.execute_input": "2025-01-28T09:53:01.221032Z",
     "iopub.status.busy": "2025-01-28T09:53:01.220631Z",
     "iopub.status.idle": "2025-01-28T09:53:01.284413Z",
     "shell.execute_reply": "2025-01-28T09:53:01.283133Z"
    },
    "papermill": {
     "duration": 0.069445,
     "end_time": "2025-01-28T09:53:01.286314",
     "exception": false,
     "start_time": "2025-01-28T09:53:01.216869",
     "status": "completed"
    },
    "tags": []
   },
   "outputs": [],
   "source": [
    "top_n = 3\n",
    "Lookalike_map = {}\n",
    "\n",
    "for idx, Customer_id in enumerate(Customers_profile['CustomerID']):\n",
    "    Similarity_scores = list(enumerate(Similarity_matrix[idx]))\n",
    "\n",
    "    Similarity_scores = sorted(Similarity_scores, key=lambda x: x[1], reverse=True)[1:top_n+1]\n",
    "\n",
    "    Similar_customers = [(Customers_profile.iloc[i[0]]['CustomerID'], round(i[1], 4)) for i in Similarity_scores]\n",
    "    Lookalike_map[Customer_id] = Similar_customers"
   ]
  },
  {
   "cell_type": "code",
   "execution_count": 10,
   "id": "177e159f",
   "metadata": {
    "execution": {
     "iopub.execute_input": "2025-01-28T09:53:01.293320Z",
     "iopub.status.busy": "2025-01-28T09:53:01.292956Z",
     "iopub.status.idle": "2025-01-28T09:53:01.304494Z",
     "shell.execute_reply": "2025-01-28T09:53:01.303476Z"
    },
    "papermill": {
     "duration": 0.016918,
     "end_time": "2025-01-28T09:53:01.306305",
     "exception": false,
     "start_time": "2025-01-28T09:53:01.289387",
     "status": "completed"
    },
    "tags": []
   },
   "outputs": [],
   "source": [
    "Lookalike_results = []\n",
    "\n",
    "for Customer_id in Customers_profile['CustomerID'][:20]:\n",
    "    Lookalike_results.append([Customer_id, Lookalike_map[Customer_id]])\n",
    "\n",
    "Lookalike_df = pd.DataFrame(Lookalike_results, columns=['CustomerID', 'Lookalikes'])\n",
    "Lookalike_df.to_csv('Debjani_Ghosh_Lookalike.csv', index=False)"
   ]
  }
 ],
 "metadata": {
  "kaggle": {
   "accelerator": "none",
   "dataSources": [
    {
     "datasetId": 6560287,
     "sourceId": 10598866,
     "sourceType": "datasetVersion"
    }
   ],
   "dockerImageVersionId": 30839,
   "isGpuEnabled": false,
   "isInternetEnabled": true,
   "language": "python",
   "sourceType": "notebook"
  },
  "kernelspec": {
   "display_name": "Python 3",
   "language": "python",
   "name": "python3"
  },
  "language_info": {
   "codemirror_mode": {
    "name": "ipython",
    "version": 3
   },
   "file_extension": ".py",
   "mimetype": "text/x-python",
   "name": "python",
   "nbconvert_exporter": "python",
   "pygments_lexer": "ipython3",
   "version": "3.10.12"
  },
  "papermill": {
   "default_parameters": {},
   "duration": 5.728117,
   "end_time": "2025-01-28T09:53:01.928630",
   "environment_variables": {},
   "exception": null,
   "input_path": "__notebook__.ipynb",
   "output_path": "__notebook__.ipynb",
   "parameters": {},
   "start_time": "2025-01-28T09:52:56.200513",
   "version": "2.6.0"
  }
 },
 "nbformat": 4,
 "nbformat_minor": 5
}
